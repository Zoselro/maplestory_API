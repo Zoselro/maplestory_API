{
 "cells": [
  {
   "cell_type": "code",
   "execution_count": 1,
   "metadata": {},
   "outputs": [
    {
     "name": "stdout",
     "output_type": "stream",
     "text": [
      "모든 데이터를 'response_data_potential.json' 파일로 저장했습니다.\n"
     ]
    }
   ],
   "source": [
    "import requests\n",
    "from datetime import datetime, timedelta\n",
    "import json\n",
    "\n",
    "file_path = r'D:\\Project\\python\\jsonfilelist\\maplestory_api_potential_data.json'\n",
    "with open(file_path, 'w', encoding='utf-8') as json_file:\n",
    "    json_file.write('')\n",
    "headers = {\n",
    "    \"x-nxopen-api-key\": \"live_454c2b1ff9fd60b4ab2ee265c9f236ba3dfb7f486da0b6c3f76999ce002754e2efe8d04e6d233bd35cf2fabdeb93fb0d\"\n",
    "}\n",
    "\n",
    "characterName = \"리마\"\n",
    "urlString = \"https://open.api.nexon.com/maplestory/v1/id?character_name=\" + characterName\n",
    "response = requests.get(urlString, headers=headers)\n",
    "ocid = response.json()['ocid']\n",
    "\n",
    "# 10월 1일부터 현재까지의 날짜 계산\n",
    "start_date = datetime(2024, 1, 25)\n",
    "end_date = datetime.now()\n",
    "days_diff = (end_date - start_date).days\n",
    "set_date = 0\n",
    "# JSON 파일을 새로 시작\n",
    "all_data = []\n",
    "data = []\n",
    "for i in range(days_diff + 1):\n",
    "    date_num = (start_date + timedelta(days=set_date)).strftime('%Y-%m-%d')\n",
    "    urlString = \"https://open.api.nexon.com/maplestory/v1/history/potential?ocid=\" + ocid + \"&count=1000\" + \"&date=\" + date_num\n",
    "    response = requests.get(urlString, headers=headers)\n",
    "    data = response.json()\n",
    "    \n",
    "    count_value = data.get('count')\n",
    "    \n",
    "    # 응답 데이터를 추가\n",
    "    if data.get('count') == 0:\n",
    "        pass\n",
    "    else:\n",
    "        all_data.append(data)\n",
    "    \n",
    "    set_date += 1  # 날짜 증가\n",
    "\n",
    "# JSON 파일에 전체 데이터를 저장\n",
    "with open(file_path, 'w', encoding='utf-8') as json_file:\n",
    "    json.dump(all_data, json_file, ensure_ascii=False, indent=4)\n",
    "\n",
    "print(\"모든 데이터를 'response_data_potential.json' 파일로 저장했습니다.\")"
   ]
  }
 ],
 "metadata": {
  "kernelspec": {
   "display_name": "Python 3",
   "language": "python",
   "name": "python3"
  },
  "language_info": {
   "codemirror_mode": {
    "name": "ipython",
    "version": 3
   },
   "file_extension": ".py",
   "mimetype": "text/x-python",
   "name": "python",
   "nbconvert_exporter": "python",
   "pygments_lexer": "ipython3",
   "version": "3.10.9"
  }
 },
 "nbformat": 4,
 "nbformat_minor": 2
}
