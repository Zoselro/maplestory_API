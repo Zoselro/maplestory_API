{
 "cells": [
  {
   "cell_type": "code",
   "execution_count": 1,
   "metadata": {},
   "outputs": [],
   "source": [
    "import requests\n",
    "from datetime import datetime, timedelta\n",
    "import json"
   ]
  },
  {
   "cell_type": "code",
   "execution_count": 2,
   "metadata": {},
   "outputs": [],
   "source": [
    "#캐릭터 기본정보 알아내기\n",
    "def get_character_data(characterName,api_key):\n",
    "    #json 파일 초기화\n",
    "    file_path = r'D:\\Project\\python\\Character_Data_json\\maplestory_api_character_data.json'\n",
    "    with open(file_path, 'w', encoding='utf-8') as json_file:\n",
    "        json_file.write('')\n",
    "    \n",
    "    headers = {\n",
    "        \"x-nxopen-api-key\": api_key\n",
    "    }\n",
    "    #캐릭터명의 ocid 알아내기\n",
    "    characterName = \"리마\"\n",
    "    urlString = \"https://open.api.nexon.com/maplestory/v1/id?character_name=\" + characterName\n",
    "    response = requests.get(urlString, headers = headers)\n",
    "    ocid = response.json()['ocid']\n",
    "\n",
    "    #내 캐릭터의 정보\n",
    "    new_time = datetime.now() - timedelta(days=1)\n",
    "    formatted_new_time = new_time.strftime('%Y-%m-%d')\n",
    "    urlString = \"https://open.api.nexon.com/maplestory/v1/character/basic?ocid=\" + ocid + \"&date=\" + formatted_new_time\n",
    "    response = requests.get(urlString, headers = headers)\n",
    "    \n",
    "    with open(file_path, 'r+', encoding='utf-8') as json_file:\n",
    "        json.dump(response.json(), json_file, ensure_ascii=False, indent=4)\n",
    "    \n",
    "    return response\n"
   ]
  },
  {
   "cell_type": "code",
   "execution_count": 3,
   "metadata": {},
   "outputs": [],
   "source": [
    "api_key = \"live_454c2b1ff9fd60b4ab2ee265c9f236ba3dfb7f486da0b6c3f76999ce002754e2efe8d04e6d233bd35cf2fabdeb93fb0d\"\n",
    "character_data = get_character_data(\"리마\",api_key).json()\n",
    "character_nickname = character_data.get('character_name')"
   ]
  }
 ],
 "metadata": {
  "kernelspec": {
   "display_name": "Python 3",
   "language": "python",
   "name": "python3"
  },
  "language_info": {
   "codemirror_mode": {
    "name": "ipython",
    "version": 3
   },
   "file_extension": ".py",
   "mimetype": "text/x-python",
   "name": "python",
   "nbconvert_exporter": "python",
   "pygments_lexer": "ipython3",
   "version": "3.12.6"
  }
 },
 "nbformat": 4,
 "nbformat_minor": 2
}
