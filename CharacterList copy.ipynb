{
 "cells": [
  {
   "cell_type": "code",
   "execution_count": 33,
   "metadata": {},
   "outputs": [
    {
     "name": "stdout",
     "output_type": "stream",
     "text": [
      "응답 데이터를 'response_data.json' 파일로 저장했습니다.\n"
     ]
    }
   ],
   "source": [
    "import requests\n",
    "from datetime import datetime, timedelta\n",
    "import json\n",
    "file_path = r'D:\\Project\\python\\jsonfilelist\\maplestory_api_characterList.json'\n",
    "with open(file_path, 'w', encoding='utf-8') as json_file:\n",
    "    json_file.write('')\n",
    "\n",
    "headers = {\n",
    "    \"x-nxopen-api-key\": \"live_454c2b1ff9fd60b4ab2ee265c9f236ba3dfb7f486da0b6c3f76999ce002754e2efe8d04e6d233bd35cf2fabdeb93fb0d\"\n",
    "}\n",
    "\n",
    "characterName = \"리마\"\n",
    "#urlString = \"https://open.api.nexon.com/maplestory/v1/character/list?character_name=\" + characterName\n",
    "urlString = \"https://open.api.nexon.com/maplestory/v1/id?character_name=\" + characterName\n",
    "response = requests.get(urlString, headers = headers)\n",
    "jsonData = None\n",
    "character_name = None\n",
    "\n",
    "#특정 닉네임을 검색하여 캐릭터 출력기능\n",
    "\"\"\"if response.status_code == 200:\n",
    "    jsonData = response.json()\n",
    "    for account in jsonData['account_list']:\n",
    "        for character in account['character_list']:\n",
    "            if character[\"character_name\"] == \"카트라이더\":\n",
    "                character_name = character\"\"\"\n",
    "                \n",
    "\n",
    "\n",
    "with open(file_path, 'r+', encoding='utf-8') as json_file:\n",
    "    json.dump(response.json(), json_file, ensure_ascii=False, indent=4)\n",
    "\n",
    "print(\"응답 데이터를 'response_data.json' 파일로 저장했습니다.\")"
   ]
  },
  {
   "cell_type": "code",
   "execution_count": 28,
   "metadata": {},
   "outputs": [
    {
     "name": "stdout",
     "output_type": "stream",
     "text": [
      "응답 데이터를 'response_data.json' 파일로 저장했습니다.\n",
      "{'ocid': '87e3593c9ce50d32addd84ce85c7f644'}\n"
     ]
    }
   ],
   "source": [
    "import requests\n",
    "from datetime import datetime, timedelta\n",
    "import json\n",
    "\n",
    "with open('response_data.json', 'w', encoding='utf-8') as json_file:\n",
    "    json_file.write('')\n",
    "\n",
    "headers = {\n",
    "    \"x-nxopen-api-key\": \"live_23a1b1d4734e921eb7e769206e88f1f8d52039d05af824fe944ba9b2cf6e1f7d183da407b7a678747cf6efb59c154129\"\n",
    "}\n",
    "\n",
    "characterName = \"운서동\"\n",
    "urlString = \"https://open.api.nexon.com/maplestory/v1/id?character_name=\" + characterName\n",
    "response = requests.get(urlString, headers = headers)\n",
    "ocid = response.json()['ocid']\n",
    "urlString = \"https://open.api.nexon.com/maplestory/v1/character/basic?ocid=\" + ocid + \"&date=\" + \"2024-10-21\"#datetime.now().strftime('%Y-%m-%d')\n",
    "\n",
    "with open('response_data.json', 'r+', encoding='utf-8') as json_file:\n",
    "    json.dump(response.json(), json_file, ensure_ascii=False, indent=4)\n",
    "\n",
    "print(\"응답 데이터를 'response_data.json' 파일로 저장했습니다.\")\n",
    "\n",
    "print(response.json())"
   ]
  }
 ],
 "metadata": {
  "kernelspec": {
   "display_name": "Python 3",
   "language": "python",
   "name": "python3"
  },
  "language_info": {
   "codemirror_mode": {
    "name": "ipython",
    "version": 3
   },
   "file_extension": ".py",
   "mimetype": "text/x-python",
   "name": "python",
   "nbconvert_exporter": "python",
   "pygments_lexer": "ipython3",
   "version": "3.12.6"
  }
 },
 "nbformat": 4,
 "nbformat_minor": 2
}
