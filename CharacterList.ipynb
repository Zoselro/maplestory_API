{
 "cells": [
  {
   "cell_type": "code",
   "execution_count": 3,
   "metadata": {},
   "outputs": [
    {
     "name": "stdout",
     "output_type": "stream",
     "text": [
      "응답 데이터를 'response_data.json' 파일로 저장했습니다.\n",
      "{'account_list': [{'account_id': '5de3db27516cc7471898970c88aad313', 'character_list': [{'ocid': 'e48141d34b6d95e3b89103dba3720042', 'character_name': 'N에반Dragon', 'world_name': '크로아', 'character_class': '에반', 'character_level': 157}, {'ocid': 'd067f214b307e9784e3b4e9007f571d2', 'character_name': 'aasdfasfv', 'world_name': '크로아', 'character_class': '제로', 'character_level': 101}, {'ocid': '6d3b64e748e09ca0313c0adc4974651d', 'character_name': '레이저스팅스', 'world_name': '크로아', 'character_class': '와일드헌터', 'character_level': 123}]}, {'account_id': 'bec42c19d50e086c896fb4c3b8f454d9', 'character_list': [{'ocid': '9704a26b535ac735b175c67f2f2415e1', 'character_name': '도적TzT', 'world_name': '크로아', 'character_class': '어쌔신', 'character_level': 36}, {'ocid': '55c2e36e51f8d3412c504ffdf697ddb5', 'character_name': 'gkdlduaskfj', 'world_name': '크로아', 'character_class': '아란', 'character_level': 22}, {'ocid': '1eb97dff2a4d0555e0c18e404a486827', 'character_name': 'av플레임sa', 'world_name': '크로아', 'character_class': '플레임위자드', 'character_level': 44}]}, {'account_id': 'dbca6b53f6dd57119e7ab709026ef657', 'character_list': [{'ocid': 'a5e3c0a8e52aacb6780f5e8b201e62faefe8d04e6d233bd35cf2fabdeb93fb0d', 'character_name': '구우짐', 'world_name': '오로라', 'character_class': '팬텀', 'character_level': 112}, {'ocid': '18c302439720ed8639c33c3f8f795f13efe8d04e6d233bd35cf2fabdeb93fb0d', 'character_name': '구짐소마', 'world_name': '리부트', 'character_class': '소울마스터', 'character_level': 263}, {'ocid': '3cde6812254b55977c7c538b83f0db17efe8d04e6d233bd35cf2fabdeb93fb0d', 'character_name': '구짐캐슈', 'world_name': '리부트', 'character_class': '캐논마스터', 'character_level': 200}, {'ocid': 'b0e71fd2af958857d7a07f4c14bc6726efe8d04e6d233bd35cf2fabdeb93fb0d', 'character_name': '구짐히어로', 'world_name': '리부트', 'character_class': '히어로', 'character_level': 200}, {'ocid': 'd0bb707f6a9c6583560b605b1af0e3e2efe8d04e6d233bd35cf2fabdeb93fb0d', 'character_name': '프랑스아델', 'world_name': '리부트', 'character_class': '아델', 'character_level': 200}, {'ocid': 'c9f8929ca89ea473491f55bc83b5ad74', 'character_name': '구진블레이더', 'world_name': '크로아', 'character_class': '듀얼블레이더', 'character_level': 250}, {'ocid': '7100d686431ebd9d4506f642bc0480bcefe8d04e6d233bd35cf2fabdeb93fb0d', 'character_name': '규지저', 'world_name': '리부트', 'character_class': '카이저', 'character_level': 200}, {'ocid': '12d9d199e9f28813026809e08281cb25efe8d04e6d233bd35cf2fabdeb93fb0d', 'character_name': '구짐라라', 'world_name': '리부트', 'character_class': '라라', 'character_level': 200}, {'ocid': '7e67daf35adf435ac7de29a5a8841f10efe8d04e6d233bd35cf2fabdeb93fb0d', 'character_name': '구짐닥나', 'world_name': '리부트', 'character_class': '다크나이트', 'character_level': 200}, {'ocid': '3bda683f7704b3202daceadc884ff87aefe8d04e6d233bd35cf2fabdeb93fb0d', 'character_name': '구짐팔라', 'world_name': '리부트', 'character_class': '팔라딘', 'character_level': 200}, {'ocid': 'ca41645803c2cab4978375e05e75f115efe8d04e6d233bd35cf2fabdeb93fb0d', 'character_name': '링꾸메루용', 'world_name': '리부트', 'character_class': '메르세데스', 'character_level': 251}, {'ocid': '74b060a3eed78d81bdaffa2ecac5c1beefe8d04e6d233bd35cf2fabdeb93fb0d', 'character_name': '규짐나로', 'world_name': '리부트', 'character_class': '나이트로드', 'character_level': 200}, {'ocid': '43bde490ab6f929c88391465b8c193a6', 'character_name': 'GreenElfs', 'world_name': '크로아', 'character_class': '메르세데스', 'character_level': 200}, {'ocid': 'adaf324322e9b3055d1e6613b1694d6a', 'character_name': '규진', 'world_name': '크로아', 'character_class': '팬텀', 'character_level': 282}, {'ocid': '414065df884e615b3bc5a49f7f17dd7a', 'character_name': '아들규', 'world_name': '노바', 'character_class': '아델', 'character_level': 209}, {'ocid': 'd17b1ff36dae3d05648e215f02305107', 'character_name': '제한엔버', 'world_name': '크로아', 'character_class': '엔젤릭버스터', 'character_level': 200}, {'ocid': '2989cc2e893d5779e74458d9b9cbaae7', 'character_name': '제한된제논', 'world_name': '크로아', 'character_class': '제논', 'character_level': 200}, {'ocid': '9917367e559c5da26456cc2973d74a68', 'character_name': '홀패드', 'world_name': '크로아', 'character_class': '아크메이지(썬,콜)', 'character_level': 200}, {'ocid': '5fa9b2ec3ecb28a48e909b54c5a70a59', 'character_name': '제로in바싸개', 'world_name': '크로아', 'character_class': '제로', 'character_level': 200}, {'ocid': 'aec98d9b912f9c35b0c6e5f15c62abf7', 'character_name': '추드', 'world_name': '크로아', 'character_class': '은월', 'character_level': 200}, {'ocid': '023a463a88ad99f89b591237663efce1', 'character_name': 'UNI뱃지', 'world_name': '크로아', 'character_class': '루미너스', 'character_level': 200}, {'ocid': '29e1c4ec03a41c8ed24d3b563520c599', 'character_name': '벙어리3회', 'world_name': '크로아', 'character_class': '데몬슬레이어', 'character_level': 200}, {'ocid': 'b1885e3b1848bfe21e8fc82dd929e86e', 'character_name': '제한기능o', 'world_name': '크로아', 'character_class': '나이트워커', 'character_level': 215}, {'ocid': 'b704c31e35f239d436bab16a0c40fd09', 'character_name': '와헌버프잉껑', 'world_name': '크로아', 'character_class': '와일드헌터', 'character_level': 200}, {'ocid': '87c297ae7a159a4527871ed57d73efc0', 'character_name': '꿈을꾸네요', 'world_name': '크로아', 'character_class': '플레임위자드', 'character_level': 200}, {'ocid': '9c78d4cd64fa00dbc8c5ef64c07c2efe', 'character_name': '구우이저', 'world_name': '크로아', 'character_class': '카이저', 'character_level': 237}, {'ocid': '789c4082a80ca5c0968b9e15f815fbae', 'character_name': '데벤져의꿈', 'world_name': '크로아', 'character_class': '데몬어벤져', 'character_level': 200}, {'ocid': 'dd685446d181072977ce3070b6ebdfb4', 'character_name': '배강', 'world_name': '크로아', 'character_class': '미하일', 'character_level': 200}, {'ocid': '79104d27068041addf6c613fb808aa37', 'character_name': '키네할규', 'world_name': '크로아', 'character_class': '키네시스', 'character_level': 200}, {'ocid': 'b7c0f46ec75267f62f756bb8fec4150b', 'character_name': '피츠재럴드', 'world_name': '크로아', 'character_class': '윈드브레이커', 'character_level': 200}, {'ocid': '86c73d0f46ea750510a2fef55d4746e7', 'character_name': '겅찰복', 'world_name': '크로아', 'character_class': '소울마스터', 'character_level': 200}, {'ocid': 'a25fe891d1fb9a73cad9e8e47a7c43c3', 'character_name': '멕칸뉨', 'world_name': '크로아', 'character_class': '메카닉', 'character_level': 200}, {'ocid': 'fe46dbfb78919578743490534aaac560efe8d04e6d233bd35cf2fabdeb93fb0d', 'character_name': 'YourAre', 'world_name': '엘리시움', 'character_class': '제로', 'character_level': 101}, {'ocid': '438a5d686e8fd870c810f84ddab62c97', 'character_name': '심규진', 'world_name': '크로아', 'character_class': '에반', 'character_level': 235}, {'ocid': '7714ca040e91c1ebeaab28c4e6086b84', 'character_name': '버닝규진', 'world_name': '크로아', 'character_class': '일리움', 'character_level': 200}, {'ocid': 'cc25ae043bc2ff6187ea5c7830dff2b6', 'character_name': '노우잼카데나', 'world_name': '크로아', 'character_class': '카데나', 'character_level': 200}, {'ocid': 'd2b5d5123d3c960021556447a439b4a2', 'character_name': '규진버닝', 'world_name': '크로아', 'character_class': '섀도어', 'character_level': 200}, {'ocid': '669da21f4cdc6235eed8389d575c4d88', 'character_name': '보마는신궁임', 'world_name': '크로아', 'character_class': '보우마스터', 'character_level': 200}, {'ocid': 'faec70549155fd787d93c42f057db00f', 'character_name': '캐논규진', 'world_name': '크로아', 'character_class': '바이퍼', 'character_level': 200}, {'ocid': '0ed3bde104ed151e264310105e4d3b1d', 'character_name': '구진용아란', 'world_name': '크로아', 'character_class': '아란', 'character_level': 200}, {'ocid': 'c5c9eed88ebc931565c186810a017cba', 'character_name': '스킬펫', 'world_name': '크로아', 'character_class': '나이트로드', 'character_level': 258}, {'ocid': 'e977cf407ef8c2ca6c60d35e070bd34c', 'character_name': '배뭬일껄', 'world_name': '크로아', 'character_class': '배틀메이지', 'character_level': 200}, {'ocid': 'bbe33eeac4c134ae2e399b88a4effd64', 'character_name': '캡튄아뭬뤼카', 'world_name': '크로아', 'character_class': '캡틴', 'character_level': 200}, {'ocid': '4e24e518d2963ad0b0c7b07918541015', 'character_name': '아크할규', 'world_name': '크로아', 'character_class': '아크', 'character_level': 200}, {'ocid': '44a5a57f1e51d847561e58286bf3d220', 'character_name': '규규라이커', 'world_name': '크로아', 'character_class': '스트라이커', 'character_level': 200}, {'ocid': 'a1bd0c4b0e44c75d5b128458214900f6', 'character_name': '숍규진', 'world_name': '크로아', 'character_class': '비숍', 'character_level': 200}, {'ocid': '9d3550653c634b796747783e55fdcd4d', 'character_name': '엑병', 'world_name': '아케인', 'character_class': '팬텀', 'character_level': 140}, {'ocid': 'b14f8dcbd27ef7750f467f878bc782bd', 'character_name': '구진파인더', 'world_name': '크로아', 'character_class': '패스파인더', 'character_level': 200}, {'ocid': 'c7ab5ad1a069b563a8533b094e588edd', 'character_name': '규진캐논', 'world_name': '크로아', 'character_class': '캐논마스터', 'character_level': 220}, {'ocid': '5daaed8a8dae0b1f392b1baeb632b687', 'character_name': '다크규진', 'world_name': '크로아', 'character_class': '다크나이트', 'character_level': 200}, {'ocid': '50878957a3e452b52bebc56d19b42a19', 'character_name': '규진호영', 'world_name': '크로아', 'character_class': '호영', 'character_level': 200}, {'ocid': 'ade8c2d95a272dde5d243e5aae3195ae', 'character_name': '규진불독', 'world_name': '크로아', 'character_class': '아크메이지(불,독)', 'character_level': 200}, {'ocid': '30de608d3954f69a2172f50d51ae4c66', 'character_name': '리마', 'world_name': '리부트', 'character_class': '팬텀', 'character_level': 286}, {'ocid': 'c9e9f41f0b3a12417659bf3e4bbff74a', 'character_name': '규진닥나', 'world_name': '크로아', 'character_class': '히어로', 'character_level': 200}, {'ocid': '7e1fbba4c337d27c5e6629b7abbae626', 'character_name': '규진메세', 'world_name': '리부트', 'character_class': '메르세데스', 'character_level': 200}, {'ocid': '01113dd3377dc9fb81de96859f60cb2f', 'character_name': '제논규진', 'world_name': '리부트', 'character_class': '제논', 'character_level': 200}, {'ocid': 'efcbadb029c3a8c24fb96b5f07eeac7a', 'character_name': '메소복사수고', 'world_name': '제니스', 'character_class': '시티즌', 'character_level': 4}, {'ocid': '61aafcb3d33e2279ef6fc0d96e8085f0', 'character_name': '심규짐', 'world_name': '크로아', 'character_class': '신궁', 'character_level': 200}, {'ocid': 'e2d7fff8b099551bf66a34917351a326', 'character_name': '제한I', 'world_name': '스카니아', 'character_class': '카이저', 'character_level': 119}, {'ocid': '84678a1db5165331f3cd34caa8e6e66a', 'character_name': '규진블래', 'world_name': '크로아', 'character_class': '블래스터', 'character_level': 200}, {'ocid': '672c8e7384aae507dca671f1a7b557db', 'character_name': '뀨우우진', 'world_name': '크로아', 'character_class': '팔라딘', 'character_level': 200}, {'ocid': '80ccf8b25e9e04609e33000095c19e60', 'character_name': '구진카인', 'world_name': '크로아', 'character_class': '카인', 'character_level': 200}, {'ocid': '5ef920d6a2bfa40f2629a788713b3604', 'character_name': '모병창', 'world_name': '크로아', 'character_class': '아델', 'character_level': 224}, {'ocid': 'c061c63558c7f1cdf3ef08bb35b7c43b', 'character_name': '구진엔버', 'world_name': '리부트', 'character_class': '엔젤릭버스터', 'character_level': 225}, {'ocid': 'f2d38014ee14133ce5f8dbc386eb5731', 'character_name': '카데나할부', 'world_name': '리부트', 'character_class': '카데나', 'character_level': 200}, {'ocid': 'd777961946fcce1821949f57dccbab3f', 'character_name': '카트라이더', 'world_name': '리부트', 'character_class': '에반', 'character_level': 270}, {'ocid': 'dc0672d5f00521166a44f8b0615b51f8', 'character_name': '륑꾸루미', 'world_name': '리부트', 'character_class': '루미너스', 'character_level': 200}, {'ocid': '4b885432706f770c823fd614c62032c5', 'character_name': '분수의자', 'world_name': '리부트', 'character_class': '아란', 'character_level': 200}, {'ocid': '90d8713d89fdadf5460526783b2b1411', 'character_name': '라라규짐', 'world_name': '크로아', 'character_class': '라라', 'character_level': 144}, {'ocid': 'abcfee65a1b838375d7bb248d71594af', 'character_name': '구짐칼리', 'world_name': '크로아', 'character_class': '칼리', 'character_level': 200}, {'ocid': '495d482180d853a97dba392f961331c2', 'character_name': 'swklefjlksd', 'world_name': '베라', 'character_class': '초보자', 'character_level': 1}, {'ocid': '475f9be4540ee5874525995e3d08a56f', 'character_name': '키네링크잉', 'world_name': '리부트', 'character_class': '키네시스', 'character_level': 200}, {'ocid': '4d7bb27b8b57373e3dce338ceced91e4', 'character_name': '륑꾸메카', 'world_name': '리부트', 'character_class': '메카닉', 'character_level': 200}, {'ocid': 'a4dc7a3c2e3485f7bc3b4ef71b4f1961', 'character_name': 'weikfjoijcv', 'world_name': '리부트2', 'character_class': '시티즌', 'character_level': 1}, {'ocid': 'a7fe056fdf4df8e7bc8207b8f124b7dcefe8d04e6d233bd35cf2fabdeb93fb0d', 'character_name': 'sfkljsadlf', 'world_name': '이노시스', 'character_class': '초보자', 'character_level': 1}, {'ocid': 'f6a2501170f447125c99661323b6a097efe8d04e6d233bd35cf2fabdeb93fb0d', 'character_name': 'sdajkfwhejkl', 'world_name': '유니온', 'character_class': '시티즌', 'character_level': 4}, {'ocid': '148899364dc267c9c0e138394c77f7f2', 'character_name': '혼났스우', 'world_name': '오로라', 'character_class': '노블레스', 'character_level': 10}, {'ocid': '51c4eeaa8c405161b91485aa998d9853', 'character_name': '지문도장', 'world_name': '레드', 'character_class': '메르세데스', 'character_level': 141}, {'ocid': '9c37ae518cba64c3e43642b87b0963a6', 'character_name': '신궁할부', 'world_name': '리부트', 'character_class': '신궁', 'character_level': 200}, {'ocid': '25c12c3ba4fd4377f25559448e060a3f', 'character_name': '씬기하군', 'world_name': '리부트', 'character_class': '와일드헌터', 'character_level': 220}, {'ocid': '2686ab0287c57787e68ddae1e1a96d3a', 'character_name': '제로할부', 'world_name': '리부트', 'character_class': '제로', 'character_level': 200}, {'ocid': 'effe2be4f1a8b2faa59eb1c0c28b3d83', 'character_name': '데벤져뤠요', 'world_name': '리부트', 'character_class': '데몬어벤져', 'character_level': 200}, {'ocid': '5a8b3ff68f4b3e978214ee6c09f04026', 'character_name': '구짐호영', 'world_name': '리부트', 'character_class': '호영', 'character_level': 200}, {'ocid': '7f54b6931e9047fc69f663b07e7c8e7e', 'character_name': '블래스텅이당', 'world_name': '리부트', 'character_class': '블래스터', 'character_level': 200}, {'ocid': '87fd38f9ba92c7431d27135b61ddde83', 'character_name': '전수령님', 'world_name': '리부트', 'character_class': '일리움', 'character_level': 200}, {'ocid': '36ba401683e25ba4312bb120d550cd17', 'character_name': '규진카인', 'world_name': '리부트', 'character_class': '카인', 'character_level': 200}, {'ocid': 'ca4e534d7f0d287c8afba394012631e5', 'character_name': '아크할그', 'world_name': '리부트', 'character_class': '아크', 'character_level': 200}, {'ocid': '156523cab5edbb3dba89a2823106a960', 'character_name': '도로시창고', 'world_name': '리부트', 'character_class': '데몬슬레이어', 'character_level': 200}, {'ocid': '44e3c1e619bdcaf425047d9e646f7240', 'character_name': '몬생긴칼리', 'world_name': '리부트', 'character_class': '칼리', 'character_level': 222}, {'ocid': 'dfe9485b1672f8869d6ca4ca11502e16', 'character_name': '깐지남쪼코', 'world_name': '루나', 'character_class': '아란', 'character_level': 10}, {'ocid': 'dcb8584d3d94c82e763762d58475d83c', 'character_name': '구진은월', 'world_name': '리부트', 'character_class': '은월', 'character_level': 251}, {'ocid': '02b02676285e36871317fb90b4d78729', 'character_name': '규짐블레이더', 'world_name': '리부트', 'character_class': '듀얼블레이더', 'character_level': 200}, {'ocid': '7d6c6eae94035e0af5905ea7bee45128efe8d04e6d233bd35cf2fabdeb93fb0d', 'character_name': '안동혁', 'world_name': '엘리시움', 'character_class': '시티즌', 'character_level': 1}, {'ocid': '63dac53fb1ab29a4b4692bae8f617324', 'character_name': '구진섀도어', 'world_name': '리부트', 'character_class': '섀도어', 'character_level': 200}, {'ocid': '6e61e54e234cc81bef4bcd808f43bd3e', 'character_name': '불독구짐', 'world_name': '리부트', 'character_class': '아크메이지(불,독)', 'character_level': 200}, {'ocid': '1f3ad6c16bed8e7641d187935c0aaefc', 'character_name': '구짐비숍', 'world_name': '리부트', 'character_class': '비숍', 'character_level': 200}, {'ocid': '350e1faf4d60475a03281335e6a360e9', 'character_name': '썬콜구짐', 'world_name': '리부트', 'character_class': '아크메이지(썬,콜)', 'character_level': 200}, {'ocid': '67b9c1d27c1d1560eec44e0fa484381b', 'character_name': '구짐나워', 'world_name': '리부트', 'character_class': '나이트워커', 'character_level': 210}, {'ocid': '7054f9724dbaabcaec52f4dff1efd521', 'character_name': '구짐배메', 'world_name': '리부트', 'character_class': '배틀메이지', 'character_level': 200}, {'ocid': 'aeeb064978a377f01b33b20a96934b5f', 'character_name': '스커할규', 'world_name': '리부트', 'character_class': '스트라이커', 'character_level': 200}, {'ocid': '654eda04d11b9e353ca53119fb47ac32', 'character_name': '윈브할규', 'world_name': '리부트', 'character_class': '윈드브레이커', 'character_level': 200}, {'ocid': 'c4bb57c280c140ef56f14192bd21bd61', 'character_name': '구짐플위', 'world_name': '리부트', 'character_class': '플레임위자드', 'character_level': 200}, {'ocid': 'fc913eed6deec7fd359e5a7757d15106', 'character_name': '구짐보마', 'world_name': '리부트', 'character_class': '보우마스터', 'character_level': 200}, {'ocid': '5c99643b28780643f056e5aba3831ffa', 'character_name': '구짐패파', 'world_name': '리부트', 'character_class': '패스파인더', 'character_level': 200}, {'ocid': 'c5e5025cd20e558282ce36f10a696429', 'character_name': '구짐바퍼', 'world_name': '리부트', 'character_class': '바이퍼', 'character_level': 200}, {'ocid': '4806dea92fb51d52f6a517d5b1398f92', 'character_name': '구짐캡틴', 'world_name': '리부트', 'character_class': '캡틴', 'character_level': 200}]}, {'account_id': '609b581906d5ad6e331b897340b1efce', 'character_list': [{'ocid': '7c6b982c25548a9187ba73af351111f1', 'character_name': '아tothe란zdd', 'world_name': '크로아', 'character_class': '아란', 'character_level': 33}]}]}\n"
     ]
    }
   ],
   "source": [
    "import requests\n",
    "from datetime import datetime, timedelta\n",
    "import json\n",
    "file_path = r'D:\\Project\\python\\jsonfilelist\\maplestory_api_characterList.json'\n",
    "with open(file_path, 'w', encoding='utf-8') as json_file:\n",
    "    json_file.write('')\n",
    "\n",
    "headers = {\n",
    "    \"x-nxopen-api-key\": \"live_454c2b1ff9fd60b4ab2ee265c9f236ba3dfb7f486da0b6c3f76999ce002754e2efe8d04e6d233bd35cf2fabdeb93fb0d\"\n",
    "}\n",
    "\n",
    "characterName = \"리마\"\n",
    "urlString = \"https://open.api.nexon.com/maplestory/v1/character/list?character_name=\" + characterName\n",
    "response = requests.get(urlString, headers = headers)\n",
    "\n",
    "with open(file_path, 'r+', encoding='utf-8') as json_file:\n",
    "    json.dump(response.json(), json_file, ensure_ascii=False, indent=4)\n",
    "\n",
    "print(\"응답 데이터를 'response_data.json' 파일로 저장했습니다.\")\n",
    "print(response.json())"
   ]
  },
  {
   "cell_type": "code",
   "execution_count": 28,
   "metadata": {},
   "outputs": [
    {
     "name": "stdout",
     "output_type": "stream",
     "text": [
      "응답 데이터를 'response_data.json' 파일로 저장했습니다.\n",
      "{'ocid': '87e3593c9ce50d32addd84ce85c7f644'}\n"
     ]
    }
   ],
   "source": [
    "import requests\n",
    "from datetime import datetime, timedelta\n",
    "import json\n",
    "\n",
    "with open('response_data.json', 'w', encoding='utf-8') as json_file:\n",
    "    json_file.write('')\n",
    "\n",
    "headers = {\n",
    "    \"x-nxopen-api-key\": \"live_23a1b1d4734e921eb7e769206e88f1f8d52039d05af824fe944ba9b2cf6e1f7d183da407b7a678747cf6efb59c154129\"\n",
    "}\n",
    "\n",
    "characterName = \"운서동\"\n",
    "urlString = \"https://open.api.nexon.com/maplestory/v1/id?character_name=\" + characterName\n",
    "response = requests.get(urlString, headers = headers)\n",
    "ocid = response.json()['ocid']\n",
    "urlString = \"https://open.api.nexon.com/maplestory/v1/character/basic?ocid=\" + ocid + \"&date=\" + \"2024-10-21\"#datetime.now().strftime('%Y-%m-%d')\n",
    "\n",
    "with open('response_data.json', 'r+', encoding='utf-8') as json_file:\n",
    "    json.dump(response.json(), json_file, ensure_ascii=False, indent=4)\n",
    "\n",
    "print(\"응답 데이터를 'response_data.json' 파일로 저장했습니다.\")\n",
    "\n",
    "print(response.json())"
   ]
  }
 ],
 "metadata": {
  "kernelspec": {
   "display_name": "Python 3",
   "language": "python",
   "name": "python3"
  },
  "language_info": {
   "codemirror_mode": {
    "name": "ipython",
    "version": 3
   },
   "file_extension": ".py",
   "mimetype": "text/x-python",
   "name": "python",
   "nbconvert_exporter": "python",
   "pygments_lexer": "ipython3",
   "version": "3.12.6"
  }
 },
 "nbformat": 4,
 "nbformat_minor": 2
}
